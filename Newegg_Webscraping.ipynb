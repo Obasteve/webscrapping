{
 "cells": [
  {
   "cell_type": "code",
   "execution_count": 144,
   "id": "9a76da3d",
   "metadata": {},
   "outputs": [
    {
     "name": "stdout",
     "output_type": "stream",
     "text": [
      "Defaulting to user installation because normal site-packages is not writeable\n",
      "Collecting beautifulSoup\n",
      "  Using cached BeautifulSoup-3.2.2.tar.gz (32 kB)\n",
      "  Preparing metadata (setup.py): started\n",
      "  Preparing metadata (setup.py): finished with status 'error'\n",
      "Note: you may need to restart the kernel to use updated packages.\n"
     ]
    },
    {
     "name": "stderr",
     "output_type": "stream",
     "text": [
      "  error: subprocess-exited-with-error\n",
      "  \n",
      "  python setup.py egg_info did not run successfully.\n",
      "  exit code: 1\n",
      "  \n",
      "  [7 lines of output]\n",
      "  Traceback (most recent call last):\n",
      "    File \"<string>\", line 2, in <module>\n",
      "    File \"<pip-setuptools-caller>\", line 34, in <module>\n",
      "    File \"C:\\Users\\Obagoriola Stephen\\AppData\\Local\\Temp\\pip-install-h363g2zz\\beautifulsoup_28043678f9184083b430397e349cc5c6\\setup.py\", line 3\n",
      "      \"You're trying to run a very old release of Beautiful Soup under Python 3. This will not work.\"<>\"Please use Beautiful Soup 4, available through the pip package 'beautifulsoup4'.\"\n",
      "                                                                                                     ^^\n",
      "  SyntaxError: invalid syntax\n",
      "  [end of output]\n",
      "  \n",
      "  note: This error originates from a subprocess, and is likely not a problem with pip.\n",
      "error: metadata-generation-failed\n",
      "\n",
      "Encountered error while generating package metadata.\n",
      "\n",
      "See above for output.\n",
      "\n",
      "note: This is an issue with the package mentioned above, not pip.\n",
      "hint: See above for details.\n"
     ]
    }
   ],
   "source": [
    "pip install beautifulSoup"
   ]
  },
  {
   "cell_type": "code",
   "execution_count": 145,
   "id": "44d987ab",
   "metadata": {},
   "outputs": [
    {
     "name": "stdout",
     "output_type": "stream",
     "text": [
      "Defaulting to user installation because normal site-packages is not writeable\n",
      "Requirement already satisfied: beautifulsoup4 in c:\\programdata\\anaconda3\\lib\\site-packages (4.12.2)\n",
      "Requirement already satisfied: soupsieve>1.2 in c:\\programdata\\anaconda3\\lib\\site-packages (from beautifulsoup4) (2.4)\n",
      "Note: you may need to restart the kernel to use updated packages.\n"
     ]
    }
   ],
   "source": [
    "pip install beautifulsoup4"
   ]
  },
  {
   "cell_type": "code",
   "execution_count": 146,
   "id": "93c5b129",
   "metadata": {},
   "outputs": [],
   "source": [
    "from bs4 import BeautifulSoup as soup"
   ]
  },
  {
   "cell_type": "code",
   "execution_count": 147,
   "id": "151437b8",
   "metadata": {},
   "outputs": [],
   "source": [
    "from urllib.request import urlopen as uReq"
   ]
  },
  {
   "cell_type": "code",
   "execution_count": 148,
   "id": "9e9295dc",
   "metadata": {},
   "outputs": [],
   "source": [
    "my_url='https://www.newegg.com/p/pl?d=graphi&n=709447&Order=3'"
   ]
  },
  {
   "cell_type": "markdown",
   "id": "323288dd",
   "metadata": {},
   "source": [
    "Opening up connection and grabbing the page"
   ]
  },
  {
   "cell_type": "code",
   "execution_count": 149,
   "id": "836304a3",
   "metadata": {},
   "outputs": [],
   "source": [
    "uclient = uReq(my_url)"
   ]
  },
  {
   "cell_type": "code",
   "execution_count": 150,
   "id": "18a3e7a1",
   "metadata": {},
   "outputs": [],
   "source": [
    "page_html=uclient.read()"
   ]
  },
  {
   "cell_type": "code",
   "execution_count": 151,
   "id": "765bbfa2",
   "metadata": {},
   "outputs": [],
   "source": [
    "page_soup= soup(page_html, 'html.parser')"
   ]
  },
  {
   "cell_type": "code",
   "execution_count": 152,
   "id": "4e017e3b",
   "metadata": {},
   "outputs": [
    {
     "data": {
      "text/plain": [
       "<p class=\"\"><a class=\"display-flex align-items-center\" href=\"https://www.newegg.com/plus\" target=\"_blank\"><img alt=\"Newegg Plus\" class=\"logo-light\" height=\"27\" src=\"https://c1.neweggimages.com/webresource/themes/Nest/logos/neweggplus/10_compact.svg\" width=\"70\"/><img alt=\"Newegg Plus\" class=\"logo-dark\" height=\"27\" src=\"https://c1.neweggimages.com/webresource/themes/Nest/logos/neweggplus/11_compact_dm.svg\" width=\"70\"/><i aria-label=\"questions\" class=\"ico ico-question-circle\" style=\"margin-left:5px;cursor:pointer\"></i></a></p>"
      ]
     },
     "execution_count": 152,
     "metadata": {},
     "output_type": "execute_result"
    }
   ],
   "source": [
    "page_soup.p"
   ]
  },
  {
   "cell_type": "code",
   "execution_count": 153,
   "id": "f21d5753",
   "metadata": {},
   "outputs": [
    {
     "data": {
      "text/plain": [
       "<div><script type=\"text/javascript\">;;;(function(){var e=document.querySelector('meta[name=\"viewport\"]'),t=document.createElement(\"meta\");t.name=\"viewport\",t.content=\"width=device-width\",e||document.head.appendChild(t)})();</script></div>"
      ]
     },
     "execution_count": 153,
     "metadata": {},
     "output_type": "execute_result"
    }
   ],
   "source": [
    "page_soup.div"
   ]
  },
  {
   "cell_type": "code",
   "execution_count": 154,
   "id": "814b0008",
   "metadata": {},
   "outputs": [
    {
     "data": {
      "text/plain": [
       "<span class=\"header2021-info-nowrap header2021-info-min\"></span>"
      ]
     },
     "execution_count": 154,
     "metadata": {},
     "output_type": "execute_result"
    }
   ],
   "source": [
    "page_soup.body.span"
   ]
  },
  {
   "cell_type": "code",
   "execution_count": 155,
   "id": "ee133b09",
   "metadata": {},
   "outputs": [],
   "source": [
    "containers= page_soup.findAll(\"div\",{\"class\":\"item-container\"})"
   ]
  },
  {
   "cell_type": "code",
   "execution_count": 156,
   "id": "23147aec",
   "metadata": {},
   "outputs": [
    {
     "data": {
      "text/plain": [
       "36"
      ]
     },
     "execution_count": 156,
     "metadata": {},
     "output_type": "execute_result"
    }
   ],
   "source": [
    "len(containers)"
   ]
  },
  {
   "cell_type": "code",
   "execution_count": 157,
   "id": "4e84b409",
   "metadata": {},
   "outputs": [
    {
     "data": {
      "text/plain": [
       "'GIGABYTE Radeon RX 6600 EAGLE 8G Graphics Card, WINDFORCE 3X Cooling System, 8GB 128-bit GDDR6, GV-R66EAGLE-8GD Video Card'"
      ]
     },
     "execution_count": 157,
     "metadata": {},
     "output_type": "execute_result"
    }
   ],
   "source": [
    "container=containers[0]\n",
    "container.a.img['title']"
   ]
  },
  {
   "cell_type": "code",
   "execution_count": null,
   "id": "c1456730",
   "metadata": {},
   "outputs": [],
   "source": []
  },
  {
   "cell_type": "code",
   "execution_count": 158,
   "id": "dd0b2228",
   "metadata": {},
   "outputs": [
    {
     "data": {
      "text/plain": [
       "'GIGABYTE Radeon RX 6600 EAGLE 8G Graphics Card, WINDFORCE 3X Cooling System, 8GB 128-bit GDDR6, GV-R66EAGLE-8GD Video Card'"
      ]
     },
     "execution_count": 158,
     "metadata": {},
     "output_type": "execute_result"
    }
   ],
   "source": [
    "container.findAll('a', {'class':'item-title'})[0].text"
   ]
  },
  {
   "cell_type": "code",
   "execution_count": 172,
   "id": "e3e17317",
   "metadata": {},
   "outputs": [
    {
     "data": {
      "text/plain": [
       "'$619.99'"
      ]
     },
     "execution_count": 172,
     "metadata": {},
     "output_type": "execute_result"
    }
   ],
   "source": [
    "container.findAll('li', {'class':'price-current'})[0].text[0:7]"
   ]
  },
  {
   "cell_type": "code",
   "execution_count": 160,
   "id": "1789d3fd",
   "metadata": {},
   "outputs": [
    {
     "data": {
      "text/plain": [
       "'Model #: GV-R66EAGLE-8GD'"
      ]
     },
     "execution_count": 160,
     "metadata": {},
     "output_type": "execute_result"
    }
   ],
   "source": [
    "container.findAll('ul', {'class':'item-features'})[0].text"
   ]
  },
  {
   "cell_type": "code",
   "execution_count": 161,
   "id": "af68a8fe",
   "metadata": {},
   "outputs": [
    {
     "data": {
      "text/plain": [
       "' 4.6'"
      ]
     },
     "execution_count": 161,
     "metadata": {},
     "output_type": "execute_result"
    }
   ],
   "source": [
    "container.findAll('a', {'class':'item-rating'})[0]['title'][8:12]"
   ]
  },
  {
   "cell_type": "code",
   "execution_count": 165,
   "id": "ce4dfa89",
   "metadata": {},
   "outputs": [
    {
     "data": {
      "text/plain": [
       "'(78)'"
      ]
     },
     "execution_count": 165,
     "metadata": {},
     "output_type": "execute_result"
    }
   ],
   "source": [
    "container.findAll('span', {'class':'item-rating-num'})[0].text"
   ]
  },
  {
   "cell_type": "code",
   "execution_count": 175,
   "id": "b0c9fb89",
   "metadata": {},
   "outputs": [],
   "source": [
    "filename = \"produc.csv\"\n",
    "with open(filename, \"w\", encoding=\"utf-8\") as f:\n",
    "    headers = \"brand,title,product_name,price,rating\\n\"\n",
    "    f.write(headers)\n",
    "\n",
    "    for container in containers:\n",
    "        brand = container.findAll('ul', {'class': 'item-features'})[0].text.strip()\n",
    "        title_container = container.findAll('a', {'class': 'item-title'})\n",
    "        #title = title_container[0].text.strip()  # Assuming you want to include the title here\n",
    "        product_name = title_container[0].text.strip()\n",
    "        price = container.findAll('li', {'class':'price-current'})[0].text[0:7]\n",
    "        rating = container.findAll('a', {'class': 'item-rating'})[0]['title'][8:12]\n",
    "\n",
    "        # Ensure all strings are properly encoded in UTF-8 before writing\n",
    "        f.write(brand + \",\"  + product_name.replace(\",\", \"|\") + \",\" + price + \",\" + rating + \"\\n\")\n"
   ]
  },
  {
   "cell_type": "code",
   "execution_count": null,
   "id": "dfad472c",
   "metadata": {},
   "outputs": [],
   "source": []
  }
 ],
 "metadata": {
  "kernelspec": {
   "display_name": "Python 3 (ipykernel)",
   "language": "python",
   "name": "python3"
  },
  "language_info": {
   "codemirror_mode": {
    "name": "ipython",
    "version": 3
   },
   "file_extension": ".py",
   "mimetype": "text/x-python",
   "name": "python",
   "nbconvert_exporter": "python",
   "pygments_lexer": "ipython3",
   "version": "3.11.5"
  }
 },
 "nbformat": 4,
 "nbformat_minor": 5
}
